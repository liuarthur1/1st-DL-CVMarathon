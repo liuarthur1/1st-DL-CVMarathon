{
 "cells": [
  {
   "cell_type": "markdown",
   "metadata": {},
   "source": [
    "# 作業\n",
    "\n",
    "使用 [Lena](http://optipng.sourceforge.net/pngtech/img/lena.png)\n",
    "\n",
    "- 改變圖片的 color space (`HLS`, `LAB`) 並呈現"
   ]
  },
  {
   "cell_type": "code",
   "execution_count": 1,
   "metadata": {},
   "outputs": [],
   "source": [
    "import cv2"
   ]
  },
  {
   "cell_type": "code",
   "execution_count": 4,
   "metadata": {},
   "outputs": [],
   "source": [
    "img_path='part01/lena.png'\n",
    "img=cv2.imread(img_path,cv2.IMREAD_COLOR)\n",
    "img_hsv=cv2.imread(img_path,cv2.COLOR_BGR2HSV)\n",
    "img_hls=cv2.imread(img_path,cv2.COLOR_BGR2HLS)\n",
    "img_lab=cv2.imread(img_path,cv2.COLOR_BGR2LAB)"
   ]
  },
  {
   "cell_type": "code",
   "execution_count": 5,
   "metadata": {},
   "outputs": [],
   "source": [
    "cv2.imshow('color',img )\n",
    "\n",
    "cv2.imshow('HSV',img_hsv)\n",
    "\n",
    "cv2.imshow('HLS',img_hls )\n",
    "\n",
    "cv2.imshow('LAB',img_lab )\n",
    "\n",
    "#RGB - Blue\n",
    "#cv2.imshow('B-RGB.jpg',img[:, :, 0])\n",
    "#cv2.imwrite('B-RGB.jpg',image[:, :, 0])\n",
    "\n",
    "# RGB - Green\n",
    "#cv2.imshow('G-RGB',img[:, :, 1])\n",
    "#cv2.imwrite('G-RGB.jpg',image[:, :, 1])\n",
    "\n",
    "# RGB Red\n",
    "#cv2.imshow('R-RGB',img[:, :, 2])\n",
    "#cv2.imwrite('R-RGB.jpg',image[:, :, 2])\n",
    "\n",
    "cv2.waitKey(0)\n",
    "cv2.destroyAllWindows()"
   ]
  },
  {
   "cell_type": "code",
   "execution_count": null,
   "metadata": {},
   "outputs": [],
   "source": []
  }
 ],
 "metadata": {
  "kernelspec": {
   "display_name": "Python 3",
   "language": "python",
   "name": "python3"
  },
  "language_info": {
   "codemirror_mode": {
    "name": "ipython",
    "version": 3
   },
   "file_extension": ".py",
   "mimetype": "text/x-python",
   "name": "python",
   "nbconvert_exporter": "python",
   "pygments_lexer": "ipython3",
   "version": "3.7.0"
  }
 },
 "nbformat": 4,
 "nbformat_minor": 2
}
