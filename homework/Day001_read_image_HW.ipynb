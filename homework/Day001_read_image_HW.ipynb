{
 "cells": [
  {
   "cell_type": "markdown",
   "metadata": {},
   "source": [
    "# 作業\n",
    "\n",
    "思考一下我們前面有提到圖片是矩陣，但維度可能會不一樣\n",
    "例如灰階圖只有兩個維度，RGB 彩圖則有 3 個維度\n",
    "\n",
    "假如今天我們把 RGB 3 個維度拆開來看會有甚麼不同的效果呢？"
   ]
  },
  {
   "cell_type": "code",
   "execution_count": 1,
   "metadata": {},
   "outputs": [],
   "source": [
    "import cv2"
   ]
  },
  {
   "cell_type": "code",
   "execution_count": 3,
   "metadata": {},
   "outputs": [
    {
     "name": "stdout",
     "output_type": "stream",
     "text": [
      "<class 'numpy.ndarray'>\n"
     ]
    }
   ],
   "source": [
    "img_path='part01/lena.png'\n",
    "img=cv2.imread(img_path, cv2.IMREAD_COLOR)\n",
    "img_gray=cv2.imread(img_path, cv2.IMREAD_GRAYSCALE)\n",
    "print(type(img))"
   ]
  },
  {
   "cell_type": "code",
   "execution_count": 6,
   "metadata": {},
   "outputs": [],
   "source": [
    "cv2.imshow('ColorImage',img )\n",
    "\n",
    "cv2.imshow('GrayImage',img_gray )\n",
    "\n",
    "#RGB - Blue\n",
    "cv2.imshow('B-RGB.jpg',img[:, :, 0])\n",
    "#cv2.imwrite('B-RGB.jpg',image[:, :, 0])\n",
    "\n",
    "# RGB - Green\n",
    "cv2.imshow('G-RGB',img[:, :, 1])\n",
    "#cv2.imwrite('G-RGB.jpg',image[:, :, 1])\n",
    "\n",
    "# RGB Red\n",
    "cv2.imshow('R-RGB',img[:, :, 2])\n",
    "#cv2.imwrite('R-RGB.jpg',image[:, :, 2])\n",
    "\n",
    "cv2.waitKey(0)\n",
    "cv2.destroyAllWindows()"
   ]
  },
  {
   "cell_type": "code",
   "execution_count": null,
   "metadata": {},
   "outputs": [],
   "source": []
  }
 ],
 "metadata": {
  "kernelspec": {
   "display_name": "Python 3",
   "language": "python",
   "name": "python3"
  },
  "language_info": {
   "codemirror_mode": {
    "name": "ipython",
    "version": 3
   },
   "file_extension": ".py",
   "mimetype": "text/x-python",
   "name": "python",
   "nbconvert_exporter": "python",
   "pygments_lexer": "ipython3",
   "version": "3.7.0"
  }
 },
 "nbformat": 4,
 "nbformat_minor": 2
}
